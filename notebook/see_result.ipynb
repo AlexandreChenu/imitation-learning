{
 "cells": [
  {
   "cell_type": "code",
   "execution_count": 3,
   "id": "90a7b001-ff31-45e3-9fb3-b9974ee67eaf",
   "metadata": {},
   "outputs": [
    {
     "name": "stderr",
     "output_type": "stream",
     "text": [
      "Warning: Flow failed to import. Set the environment variable D4RL_SUPPRESS_IMPORT_ERROR=1 to suppress this message.\n",
      "No module named 'flow'\n",
      "Warning: CARLA failed to import. Set the environment variable D4RL_SUPPRESS_IMPORT_ERROR=1 to suppress this message.\n",
      "No module named 'carla'\n",
      "pybullet build time: Oct 11 2021 20:59:00\n"
     ]
    }
   ],
   "source": [
    "from datetime import datetime\n",
    "from matplotlib import pyplot as plt\n",
    "import numpy as np\n",
    "import torch\n",
    "import os, sys\n",
    "import yaml\n",
    "module_path = os.path.abspath(os.path.join('..'))\n",
    "if module_path not in sys.path:\n",
    "    sys.path.append(module_path)\n",
    "from scripts.utils import find_optimal_result, process_test_data, load_data, load_all_data, scan_folder_trajectories, get_trajectory_subfolder, read_hydra_configs, str_float_format, ALGORITHMS, ENVS, ENVS_DATA, get_all_env_baseline \n",
    "from scripts.plot_result import plot_all_trajectory_opt_data, create_all_plots\n",
    "\n"
   ]
  },
  {
   "cell_type": "markdown",
   "id": "4f23b887",
   "metadata": {},
   "source": [
    "Change below cell to point toward where the data is reciding. `data_folder_path` is where all the different output folders of hydra runs recide (default `../outputs`). \n",
    "`folder_prefix` is the *prefix of the folders* that is shared among data. This is here so that you can load/plot data for *all different algorithms* at once, and being able to compare those by unifying the prefix of the data you want to compare. This should not contain the name of the ALGORITHM or ENV, with the exception of prefix that includes `all`, which indicates all envs were run in parallel. (result from `all.py` run)"
   ]
  },
  {
   "cell_type": "code",
   "execution_count": null,
   "id": "ebdfeade",
   "metadata": {},
   "outputs": [],
   "source": [
    "data_folder_path = '../outputs' # Change here to point to the folder that contains\n",
    "folder_prefix = 'all_sweep_' # \n",
    "# Optional: data from hydra is saved in DATEFORMAT=\"%m-%d_%H-%M-%S\" format. If you only want to include data from certain date to the other, you can use the below. Default None takes all dates\n",
    "date_from, date_to = None, None  \n",
    "save_fig = False #if True, saves figures that is plotted here, too."
   ]
  },
  {
   "cell_type": "markdown",
   "id": "be7b2a39",
   "metadata": {},
   "source": [
    "Below you can run the different cells for different plots/results you want to check. The code will error out if certain data does not exist."
   ]
  },
  {
   "cell_type": "code",
   "execution_count": null,
   "id": "b05e207e",
   "metadata": {},
   "outputs": [],
   "source": [
    "# Plot all the result from a hyperparam optimization for a specific algorithm (or all algorithms). This plots 30 subplots of the result (normalized)\n",
    "alg_to_plot = 'BC'\n",
    "assert alg_to_plot in ALGORITHMS + ['all']\n",
    "plot_all_trajectory_opt_data(alg_to_plot, output_folder=data_folder_path, folder_prefix=folder_prefix, date_from=date_from, date_to=date_to, save_fig=save_fig)"
   ]
  },
  {
   "cell_type": "code",
   "execution_count": null,
   "id": "5e68f159",
   "metadata": {},
   "outputs": [],
   "source": [
    "# Plot the hyperparameters used by each algorithm per env\n",
    "#raise NotImplementedError # Needs to be updated to new run format"
   ]
  },
  {
   "cell_type": "code",
   "execution_count": null,
   "id": "888ae81d",
   "metadata": {},
   "outputs": [],
   "source": [
    "# Plot seed sweep results. This Plots each algorithms result run on different sweeps. It computes the mean-of-mean and std-error from the different seed runs and plots the training result\n",
    "# create_all_plots() \n",
    "#raise NotImplementedError # Needs to be updated to new run format"
   ]
  }
 ],
 "metadata": {
  "kernelspec": {
   "display_name": "Python 3 (ipykernel)",
   "language": "python",
   "name": "python3"
  },
  "language_info": {
   "codemirror_mode": {
    "name": "ipython",
    "version": 3
   },
   "file_extension": ".py",
   "mimetype": "text/x-python",
   "name": "python",
   "nbconvert_exporter": "python",
   "pygments_lexer": "ipython3",
   "version": "3.7.11"
  }
 },
 "nbformat": 4,
 "nbformat_minor": 5
}
